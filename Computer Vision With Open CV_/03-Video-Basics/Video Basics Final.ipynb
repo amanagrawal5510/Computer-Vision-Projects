{
 "cells": [
  {
   "cell_type": "markdown",
   "metadata": {},
   "source": [
    "# OpenCV Connecting to a USB Camera or a Laptop Camera\n",
    "\n",
    "OpenCV can automatically connect to your laptop's built in camera or your USB camera if you've installed that specific USB camera drivers. Please keep in mind, its almost impossible for us to help troubleshoot this sort of physical connection on our end, so if you are not able to connect, please check out the troubleshooting tips here:\n",
    "\n",
    "* https://github.com/opencv/opencv/issues/8471\n",
    "\n",
    "### Notebook Users may need to restart the kernel after closing the camera window!\n"
   ]
  },
  {
   "cell_type": "code",
   "execution_count": 6,
   "metadata": {},
   "outputs": [],
   "source": [
    "## PUT THIS ALL IN ONE CELL!\n",
    "\n",
    "import cv2\n",
    "\n",
    "# Connects to your computer's default camera\n",
    "\n",
    "cap = cv2.VideoCapture(0)\n",
    "\n",
    "# Automatically grab width and height from video feed\n",
    "# (returns float which we need to convert to integer for later on!)\n",
    "\n",
    "width = (int)(cap.get(cv2.CAP_PROP_FRAME_WIDTH))\n",
    "height = (int)(cap.get(cv2.CAP_PROP_FRAME_HEIGHT))\n",
    "\n",
    "#print(width,height)\n",
    "\n",
    "while True:\n",
    "    \n",
    "    # Capture frame By Frame\n",
    "    ret, frame = cap.read()\n",
    "    \n",
    "    # Our operations on the frame come here\n",
    "    #gray = cv2.cvtColor(frame, cv2.COLOR_BGR2GRAY)\n",
    "    \n",
    "    # Display the resulting frame\n",
    "    cv2.imshow(\"frame\", frame)\n",
    "    \n",
    "    \n",
    "    # This command let's us quit with the \"q\" button on a keyboard.\n",
    "    # Simply pressing X on the window won't work!\n",
    "    if cv2.waitKey(1) & 0xFF == ord('q'):\n",
    "        break\n",
    "\n",
    "# When everything done, release the capture and destroy the windows\n",
    "cap.release()\n",
    "cv2.destroyAllWindows()\n",
    "    "
   ]
  },
  {
   "cell_type": "markdown",
   "metadata": {},
   "source": [
    "It is also important to note that ord('q') can return different numbers if you have NumLock activated (maybe it is also happening with other keys). For example, when pressing c, the code:\n",
    "\n",
    "key = cv2.waitKey(10) \n",
    "print(key) \n",
    "returns\n",
    "\n",
    " 1048675 when NumLock is activated \n",
    " 99 otherwise\n",
    "Converting these 2 numbers to binary we can see:\n",
    "\n",
    "1048675 = 100000000000001100011\n",
    "99 = 1100011\n",
    "As we can see, the last byte is identical. Then it is necessary to take just this last byte as the rest is caused because of the state of NumLock. Thus, we perform:\n",
    "\n",
    "key = cv2.waitKey(33) & 0b11111111  \n",
    "\n",
    "0b11111111 is equivalent to 0xFF\n",
    "and the value of key will remain the same and now we can compare it with any key we would like such as your question\n",
    "\n",
    "if key == ord('q'):\n",
    "\n",
    "0xFF is a hexadecimal constant which is 11111111 in binary. By using bitwise AND (&) with this constant, it leaves only the last 8 bits of the original (in this case, whatever cv2.waitKey(0) is)."
   ]
  },
  {
   "cell_type": "markdown",
   "metadata": {},
   "source": [
    "## Writing a Video Stream to File\n",
    "\n",
    "### Notebook Users:  Make sure its all in the same cell!\n",
    "\n",
    "FourCC is a 4-byte code used to specify the video codec. The list of available codes can be found in fourcc.org. It is platform dependent. \n",
    "\n",
    "MORE INFO ON CODECS: https://docs.opencv.org/3.0-beta/doc/py_tutorials/py_gui/py_video_display/py_video_display.html#saving-a-video"
   ]
  },
  {
   "cell_type": "code",
   "execution_count": 1,
   "metadata": {},
   "outputs": [],
   "source": [
    "import cv2\n",
    "\n",
    "cap = cv2.VideoCapture(0)\n",
    "\n",
    "width = int(cap.get(cv2.CAP_PROP_FRAME_WIDTH))\n",
    "height = int(cap.get(cv2.CAP_PROP_FRAME_HEIGHT))\n",
    "\n",
    "\n",
    "# MACOS AND LINUX: *'XVID' (MacOS users may want to try VIDX as well just in case)\n",
    "# WINDOWS *'VIDX'\n",
    "writer = cv2.VideoWriter('../DATA/capture.mp4', cv2.VideoWriter_fourcc(* 'XVID'),25,(width,height))\n",
    "\n",
    "\n",
    "while True:\n",
    "    \n",
    "    ret, frame = cap.read()\n",
    "    \n",
    "    writer.write(frame)\n",
    "    \n",
    "    cv2.imshow('frame',frame)\n",
    "    \n",
    "    if cv2.waitKey(1) & 0xFF == ord('q'):\n",
    "        break\n",
    "\n",
    "cap.release()\n",
    "writer.release()\n",
    "cv2.destroyAllWindows()"
   ]
  },
  {
   "cell_type": "markdown",
   "metadata": {},
   "source": [
    "\n",
    "# OpenCV with Video Files\n",
    "\n",
    "Let's now open the recorded video from the last lecture, the file is called \"video_capture.mp4\", although you can use this code to open any major video format."
   ]
  },
  {
   "cell_type": "code",
   "execution_count": null,
   "metadata": {},
   "outputs": [],
   "source": []
  }
 ],
 "metadata": {
  "kernelspec": {
   "display_name": "Python 3",
   "language": "python",
   "name": "python3"
  },
  "language_info": {
   "codemirror_mode": {
    "name": "ipython",
    "version": 3
   },
   "file_extension": ".py",
   "mimetype": "text/x-python",
   "name": "python",
   "nbconvert_exporter": "python",
   "pygments_lexer": "ipython3",
   "version": "3.6.6"
  }
 },
 "nbformat": 4,
 "nbformat_minor": 2
}
